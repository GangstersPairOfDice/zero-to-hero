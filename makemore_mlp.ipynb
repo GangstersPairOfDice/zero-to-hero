{
 "cells": [
  {
   "cell_type": "code",
   "execution_count": 35,
   "id": "5d82bd27-bda1-4979-b420-10bf3ef9af30",
   "metadata": {},
   "outputs": [],
   "source": [
    "# imports\n",
    "import os\n",
    "import numpy as np\n",
    "import time\n",
    "from tinygrad import Tensor\n",
    "import matplotlib.pyplot as plt # for making figures\n",
    "%matplotlib inline\n",
    "\n",
    "os.environ['GPU'] = '1' # set to tinygrad backend to GPU since METAL doesn't work on older intel macs"
   ]
  },
  {
   "cell_type": "code",
   "execution_count": 2,
   "id": "3010fd07-1363-4850-a389-f42970e653e7",
   "metadata": {},
   "outputs": [],
   "source": [
    "# import and clean pokemon name data\n",
    "\n",
    "import csv\n",
    "\n",
    "moves = []\n",
    "\n",
    "with open('Pokemon_moves.csv', newline='') as csvfile:\n",
    "    reader = csv.reader(csvfile)\n",
    "    next(reader) # skips header row\n",
    "    for row in reader:\n",
    "        if len(row) > 1:\n",
    "            moves.append(row[0])"
   ]
  },
  {
   "cell_type": "code",
   "execution_count": 3,
   "id": "4242e3fe-2e3b-49dc-8191-0260772779ce",
   "metadata": {},
   "outputs": [
    {
     "data": {
      "text/plain": [
       "['10,000,000 Volt Thunderbolt',\n",
       " 'Absorb',\n",
       " 'Accelerock',\n",
       " 'Acid',\n",
       " 'Acid Armor',\n",
       " 'Acid Downpour',\n",
       " 'Acid Spray',\n",
       " 'Acrobatics',\n",
       " 'Acupressure',\n",
       " 'Aerial Ace']"
      ]
     },
     "execution_count": 3,
     "metadata": {},
     "output_type": "execute_result"
    }
   ],
   "source": [
    "moves[:10]"
   ]
  },
  {
   "cell_type": "code",
   "execution_count": 4,
   "id": "f9179353-1daa-46d9-892f-864e442ee2df",
   "metadata": {},
   "outputs": [
    {
     "data": {
      "text/plain": [
       "724"
      ]
     },
     "execution_count": 4,
     "metadata": {},
     "output_type": "execute_result"
    }
   ],
   "source": [
    "len(moves)"
   ]
  },
  {
   "cell_type": "code",
   "execution_count": 5,
   "id": "3fdca707-561f-46c2-b29e-01b55b30c0d4",
   "metadata": {},
   "outputs": [
    {
     "name": "stdout",
     "output_type": "stream",
     "text": [
      "{1: ' ', 2: \"'\", 3: ',', 4: '-', 5: '0', 6: '1', 7: '2', 8: '7', 9: 'A', 10: 'B', 11: 'C', 12: 'D', 13: 'E', 14: 'F', 15: 'G', 16: 'H', 17: 'I', 18: 'J', 19: 'K', 20: 'L', 21: 'M', 22: 'N', 23: 'O', 24: 'P', 25: 'Q', 26: 'R', 27: 'S', 28: 'T', 29: 'U', 30: 'V', 31: 'W', 32: 'X', 33: 'Y', 34: 'Z', 35: 'a', 36: 'b', 37: 'c', 38: 'd', 39: 'e', 40: 'f', 41: 'g', 42: 'h', 43: 'i', 44: 'k', 45: 'l', 46: 'm', 47: 'n', 48: 'o', 49: 'p', 50: 'q', 51: 'r', 52: 's', 53: 't', 54: 'u', 55: 'v', 56: 'w', 57: 'x', 58: 'y', 59: 'z', 0: '.'}\n",
      "num_unique_chars = 60\n",
      "all_chars =  {'F', 'w', 'Z', 'Y', 'E', 'R', 'W', 'p', '2', 'h', 'f', '1', 'G', 'V', 'T', 'u', 'D', 'O', 'c', 'x', '7', 't', 'K', 'e', 'H', 'm', '.', 'd', 'P', ',', 'M', 'z', 'Q', 'B', 'k', 'g', 'b', ' ', 'I', 'q', 's', 'N', 'o', 'i', 'X', 'U', 'J', 'S', 'a', 'y', 'C', 'n', 'A', \"'\", '0', '-', 'l', 'v', 'L', 'r'}\n"
     ]
    }
   ],
   "source": [
    "# build the vocabular of characters and mappings to/from integers\n",
    "chars = sorted(list(set(''.join(moves))))\n",
    "# stoi = string to int, itos = int to string\n",
    "stoi = {s:i+1 for i,s in enumerate(chars)}\n",
    "stoi['.'] = 0 # set . as end char, since all other end chars are already used\n",
    "itos = {i:s for s,i in stoi.items()}\n",
    "print(itos)\n",
    "\n",
    "# finding # of unique chars so we can set our Tensor dim. later\n",
    "all_chars = set(''.join(stoi))\n",
    "num_unique_chars = len(all_chars)\n",
    "\n",
    "print('num_unique_chars =', num_unique_chars)\n",
    "print('all_chars = ', all_chars)"
   ]
  },
  {
   "cell_type": "code",
   "execution_count": 6,
   "id": "87aca16d-3a4d-440a-874a-caf05157d2ba",
   "metadata": {},
   "outputs": [
    {
     "name": "stdout",
     "output_type": "stream",
     "text": [
      "(6369, 4) (6369,)\n",
      "(828, 4) (828,)\n",
      "(839, 4) (839,)\n"
     ]
    }
   ],
   "source": [
    "# build the dataset\n",
    "block_size = 4 # context length: how many chars do we take to predict the next on?\n",
    "X, Y = [], [] # X = inputs, Y = labels\n",
    "\n",
    "for n in moves:\n",
    "\n",
    "    #print(n)\n",
    "    context = [0] * block_size # start with padded context\n",
    "\n",
    "    # iter over all chars\n",
    "    for ch in n + '.':\n",
    "        ix = stoi[ch] # get char in sequence\n",
    "        X.append(context) # stores current running context\n",
    "        Y.append(ix) # stores current char\n",
    "        #print(''.join(itos[i] for i in context), '--->', itos[ix])\n",
    "        context = context[1:] + [ix] # crop and append (rolling window of context)\n",
    "\n",
    "X = Tensor(X)\n",
    "Y = Tensor(Y)\n",
    "\n",
    "# build the dataset ( in terms of train, val, and test sets )\n",
    "def build_dataset(moves):\n",
    "    block_size = 4 # context length: how many chars do we take to predict the next on?\n",
    "    X, Y = [], [] # X = inputs, Y = labels\n",
    "    \n",
    "    for n in moves:\n",
    "    \n",
    "        #print(n)\n",
    "        context = [0] * block_size # start with padded context\n",
    "    \n",
    "        # iter over all chars\n",
    "        for ch in n + '.':\n",
    "            ix = stoi[ch] # get char in sequence\n",
    "            X.append(context) # stores current running context\n",
    "            Y.append(ix) # stores current char\n",
    "            #print(''.join(itos[i] for i in context), '--->', itos[ix])\n",
    "            context = context[1:] + [ix] # crop and append (rolling window of context)\n",
    "    \n",
    "    X = Tensor(X)\n",
    "    Y = Tensor(Y)\n",
    "    print(X.shape, Y.shape)\n",
    "    return X, Y\n",
    "\n",
    "import random\n",
    "random.shuffle(moves)\n",
    "n1 = int(0.8*len(moves))\n",
    "n2 = int(0.9*len(moves))\n",
    "\n",
    "Xtr, Ytr = build_dataset(moves[:n1])\n",
    "Xdev, Ydev = build_dataset(moves[n1:n2])\n",
    "Xte, Yte = build_dataset(moves[n2:])"
   ]
  },
  {
   "cell_type": "code",
   "execution_count": 7,
   "id": "872b2019-5146-4d9c-9666-ac56f4bed8a5",
   "metadata": {},
   "outputs": [
    {
     "data": {
      "text/plain": [
       "((8036, 4), dtypes.int, (8036,), dtypes.int)"
      ]
     },
     "execution_count": 7,
     "metadata": {},
     "output_type": "execute_result"
    }
   ],
   "source": [
    "# dataset shape\n",
    "X.shape, X.dtype, Y.shape, Y.dtype"
   ]
  },
  {
   "cell_type": "code",
   "execution_count": 8,
   "id": "89167c6e-874c-4b74-a179-8bd842b94147",
   "metadata": {},
   "outputs": [],
   "source": [
    "# building embedding lookup table\n",
    "# we try cramming everything into two dimensional space\n",
    "\n",
    "C = Tensor.randn((num_unique_chars, 2))"
   ]
  },
  {
   "cell_type": "code",
   "execution_count": 9,
   "id": "9a18d618-de16-4d15-8a57-868b9d331403",
   "metadata": {},
   "outputs": [
    {
     "data": {
      "text/plain": [
       "(8036, 4, 2)"
      ]
     },
     "execution_count": 9,
     "metadata": {},
     "output_type": "execute_result"
    }
   ],
   "source": [
    "emb = C[X]\n",
    "emb.shape"
   ]
  },
  {
   "cell_type": "code",
   "execution_count": 10,
   "id": "16b9ed59-289b-45f3-b998-1200c3ae4ed8",
   "metadata": {},
   "outputs": [],
   "source": [
    "### hidden layer (3x2 = num inputs to this layer (context x embedding dim), and arb. 100 neurons)\n",
    "W1 = Tensor.randn(8, 100)\n",
    "b1 = Tensor.randn(100)"
   ]
  },
  {
   "cell_type": "code",
   "execution_count": 11,
   "id": "da16c227-29ec-49c7-8afa-3349528751b7",
   "metadata": {},
   "outputs": [
    {
     "data": {
      "text/plain": [
       "(8036, 100)"
      ]
     },
     "execution_count": 11,
     "metadata": {},
     "output_type": "execute_result"
    }
   ],
   "source": [
    "# the .view(-1) infers the rest of the shape of the viewed tensor\n",
    "h = (emb.view(-1,8) @ W1 + b1).tanh()\n",
    "h.shape"
   ]
  },
  {
   "cell_type": "code",
   "execution_count": 12,
   "id": "5d03b351-892b-45f8-94b9-eeaaa6e57645",
   "metadata": {},
   "outputs": [],
   "source": [
    "### output layer\n",
    "\n",
    "W2 = Tensor.randn(100,60)\n",
    "b2 = Tensor.randn(60)"
   ]
  },
  {
   "cell_type": "code",
   "execution_count": 13,
   "id": "27813080-d024-4c04-a96a-d0446c27d00c",
   "metadata": {},
   "outputs": [],
   "source": [
    "logits = h @ W2 + b2"
   ]
  },
  {
   "cell_type": "code",
   "execution_count": 14,
   "id": "e5f57be6-e67b-4123-a472-f70eaacea0d5",
   "metadata": {},
   "outputs": [
    {
     "data": {
      "text/plain": [
       "(8036, 60)"
      ]
     },
     "execution_count": 14,
     "metadata": {},
     "output_type": "execute_result"
    }
   ],
   "source": [
    "logits.shape"
   ]
  },
  {
   "cell_type": "code",
   "execution_count": 15,
   "id": "ee6c9ddc-6d20-47ea-b73c-38e96e5b4555",
   "metadata": {},
   "outputs": [],
   "source": [
    "counts = logits.exp()"
   ]
  },
  {
   "cell_type": "code",
   "execution_count": 16,
   "id": "a91606ce-c84d-4866-8b0c-657ec5092027",
   "metadata": {},
   "outputs": [],
   "source": [
    "prob = counts / counts.sum(1, keepdim=True) # normalizing"
   ]
  },
  {
   "cell_type": "code",
   "execution_count": 17,
   "id": "46053824-14b2-4528-96a6-05acb46012c5",
   "metadata": {},
   "outputs": [
    {
     "data": {
      "text/plain": [
       "(8036, 60)"
      ]
     },
     "execution_count": 17,
     "metadata": {},
     "output_type": "execute_result"
    }
   ],
   "source": [
    "prob.shape"
   ]
  },
  {
   "cell_type": "code",
   "execution_count": 18,
   "id": "5819b9b1-b26a-4c97-8318-b09394016fa9",
   "metadata": {},
   "outputs": [],
   "source": [
    "#-prob[Tensor.arange(60), Y].log().mean().numpy() # neg log likelyhood loss"
   ]
  },
  {
   "cell_type": "code",
   "execution_count": 67,
   "id": "c582b4ba-4583-4b68-be3f-e44eea7bc74b",
   "metadata": {},
   "outputs": [],
   "source": [
    "#------- cleanup time -------#"
   ]
  },
  {
   "cell_type": "code",
   "execution_count": 94,
   "id": "a59747a4-4e60-4858-aa0c-a43b5e233279",
   "metadata": {},
   "outputs": [
    {
     "data": {
      "text/plain": [
       "((6369, 4), (6369,))"
      ]
     },
     "execution_count": 94,
     "metadata": {},
     "output_type": "execute_result"
    }
   ],
   "source": [
    "Xtr.shape, Ytr.shape # dataset for training"
   ]
  },
  {
   "cell_type": "code",
   "execution_count": 95,
   "id": "2a8d34d3-9256-4437-91de-44c1fadd17c1",
   "metadata": {},
   "outputs": [],
   "source": [
    "C = Tensor.randn(60, 16)\n",
    "W1 = Tensor.randn(64, 32)\n",
    "b1 = Tensor.randn(32)\n",
    "W2 = Tensor.randn(32, 60)\n",
    "b2 = Tensor.randn(60)\n",
    "parameters = [C, W1, b1, W2, b2]"
   ]
  },
  {
   "cell_type": "code",
   "execution_count": 96,
   "id": "68d38caa-1266-41c6-9cc6-dc332ca6637e",
   "metadata": {},
   "outputs": [
    {
     "data": {
      "text/plain": [
       "5020"
      ]
     },
     "execution_count": 96,
     "metadata": {},
     "output_type": "execute_result"
    }
   ],
   "source": [
    "sum(p.numel() for p in parameters) # numb of params in total"
   ]
  },
  {
   "cell_type": "code",
   "execution_count": 97,
   "id": "37b9b35b-ca7c-45f6-becd-cce32bab45fe",
   "metadata": {},
   "outputs": [],
   "source": [
    "lre = Tensor.linspace(-1, 1, 500)\n",
    "lrs = 10**lre"
   ]
  },
  {
   "cell_type": "code",
   "execution_count": 98,
   "id": "76844f6c-d10e-4fbd-9b94-bbfa52bebb31",
   "metadata": {},
   "outputs": [
    {
     "data": {
      "text/plain": [
       "<Tensor <UOp GPU () float ShapeTracker(views=(View(shape=(), strides=(), offset=0, mask=None, contiguous=True),))> on GPU with grad UOp(Ops.CONST, dtypes.float, arg=1.0, src=(\n",
       "  UOp(Ops.VIEW, dtypes.void, arg=ShapeTracker(views=(View(shape=(), strides=(), offset=0, mask=None, contiguous=True),)), src=(\n",
       "    UOp(Ops.DEVICE, dtypes.void, arg='GPU', src=()),)),))>"
      ]
     },
     "execution_count": 98,
     "metadata": {},
     "output_type": "execute_result"
    }
   ],
   "source": [
    "# force realization\n",
    "loss.realize()"
   ]
  },
  {
   "cell_type": "code",
   "execution_count": 99,
   "id": "70a20206-b2c4-4248-bbf6-c74b307c1d54",
   "metadata": {},
   "outputs": [],
   "source": [
    "for p in parameters:\n",
    "    p.requires_grad = True"
   ]
  },
  {
   "cell_type": "code",
   "execution_count": 114,
   "id": "427fa14b-5fd6-4662-b6b2-c8d8e2cb379b",
   "metadata": {},
   "outputs": [
    {
     "name": "stdout",
     "output_type": "stream",
     "text": [
      "step 0: 2.0132482051849365\n",
      "step 1: 2.268847942352295\n",
      "step 2: 2.4934182167053223\n",
      "step 3: 2.0303592681884766\n",
      "step 4: 2.2974369525909424\n",
      "step 5: 2.308910608291626\n",
      "step 6: 2.0800840854644775\n",
      "step 7: 2.3193416595458984\n",
      "step 8: 2.307084321975708\n",
      "step 9: 2.3617184162139893\n",
      "step 10: 2.6145987510681152\n",
      "step 11: 2.498616933822632\n",
      "step 12: 2.3583781719207764\n",
      "step 13: 2.3306691646575928\n",
      "step 14: 2.5277271270751953\n",
      "step 15: 2.056586980819702\n",
      "step 16: 2.167233943939209\n",
      "step 17: 2.1688332557678223\n",
      "step 18: 2.6586194038391113\n",
      "step 19: 2.1271450519561768\n",
      "step 20: 2.5512855052948\n",
      "step 21: 2.2260117530822754\n",
      "step 22: 2.3435792922973633\n",
      "step 23: 2.2664082050323486\n",
      "step 24: 1.9721403121948242\n",
      "step 25: 1.9825721979141235\n",
      "step 26: 2.1235482692718506\n",
      "step 27: 2.0131068229675293\n",
      "step 28: 2.405405044555664\n",
      "step 29: 2.490992546081543\n",
      "step 30: 2.133385181427002\n",
      "step 31: 2.283212661743164\n",
      "step 32: 2.265213966369629\n",
      "step 33: 1.9552509784698486\n",
      "step 34: 2.2660839557647705\n",
      "step 35: 2.624457597732544\n",
      "step 36: 2.402782917022705\n",
      "step 37: 2.2971153259277344\n",
      "step 38: 1.982679009437561\n",
      "step 39: 2.612689971923828\n",
      "step 40: 2.282848596572876\n",
      "step 41: 2.3870062828063965\n",
      "step 42: 2.543323040008545\n",
      "step 43: 2.518044948577881\n",
      "step 44: 2.2675797939300537\n",
      "step 45: 2.5058939456939697\n",
      "step 46: 2.6259357929229736\n",
      "step 47: 1.7906142473220825\n",
      "step 48: 2.368967294692993\n",
      "step 49: 2.7390623092651367\n",
      "step 50: 2.066218852996826\n",
      "step 51: 1.9703295230865479\n",
      "step 52: 2.0544703006744385\n",
      "step 53: 2.4535741806030273\n",
      "step 54: 2.485196352005005\n",
      "step 55: 2.613142490386963\n",
      "step 56: 2.065788507461548\n",
      "step 57: 1.9900391101837158\n",
      "step 58: 2.2494287490844727\n",
      "step 59: 3.075834035873413\n",
      "step 60: 2.605576515197754\n",
      "step 61: 2.0918195247650146\n",
      "step 62: 2.298964500427246\n",
      "step 63: 2.067502021789551\n",
      "step 64: 1.9282113313674927\n",
      "step 65: 2.619600772857666\n",
      "step 66: 2.0057666301727295\n",
      "step 67: 2.531282424926758\n",
      "step 68: 2.75805926322937\n",
      "step 69: 2.2073323726654053\n",
      "step 70: 2.746098041534424\n",
      "step 71: 2.238884210586548\n",
      "step 72: 2.3634562492370605\n",
      "step 73: 2.1545238494873047\n",
      "step 74: 2.3601503372192383\n",
      "step 75: 2.316328525543213\n",
      "step 76: 2.228236198425293\n",
      "step 77: 2.5364482402801514\n",
      "step 78: 2.1611640453338623\n",
      "step 79: 2.134186029434204\n",
      "step 80: 2.2567849159240723\n",
      "step 81: 2.4583535194396973\n",
      "step 82: 2.339395761489868\n",
      "step 83: 2.1445908546447754\n",
      "step 84: 2.062791585922241\n",
      "step 85: 2.3528971672058105\n",
      "step 86: 2.244065523147583\n",
      "step 87: 1.9787132740020752\n",
      "step 88: 2.4888668060302734\n",
      "step 89: 2.2169203758239746\n",
      "step 90: 2.0628981590270996\n",
      "step 91: 2.284062623977661\n",
      "step 92: 2.03418231010437\n",
      "step 93: 2.157999038696289\n",
      "step 94: 2.267258405685425\n",
      "step 95: 1.9066914319992065\n",
      "step 96: 2.1326475143432617\n",
      "step 97: 2.8333892822265625\n",
      "step 98: 2.2889671325683594\n",
      "step 99: 2.484081983566284\n",
      "step 100: 2.395455837249756\n",
      "step 101: 2.304433822631836\n",
      "step 102: 2.388436794281006\n",
      "step 103: 2.4564223289489746\n",
      "step 104: 2.564300298690796\n",
      "step 105: 2.1472344398498535\n",
      "step 106: 2.5017120838165283\n",
      "step 107: 2.0284852981567383\n",
      "step 108: 2.3793222904205322\n",
      "step 109: 2.1239352226257324\n",
      "step 110: 2.143239974975586\n",
      "step 111: 2.527064323425293\n",
      "step 112: 2.06801176071167\n",
      "step 113: 2.605090618133545\n",
      "step 114: 1.9600739479064941\n",
      "step 115: 2.340226411819458\n",
      "step 116: 2.280763864517212\n",
      "step 117: 2.238865375518799\n",
      "step 118: 2.286623239517212\n",
      "step 119: 2.3718996047973633\n",
      "step 120: 2.092785358428955\n",
      "step 121: 2.242637872695923\n",
      "step 122: 2.355613946914673\n",
      "step 123: 2.106090545654297\n",
      "step 124: 2.1849732398986816\n",
      "step 125: 2.324984073638916\n",
      "step 126: 2.328000068664551\n",
      "step 127: 2.0990827083587646\n",
      "step 128: 2.3945817947387695\n",
      "step 129: 2.074345111846924\n",
      "step 130: 2.3570470809936523\n",
      "step 131: 2.4295494556427\n",
      "step 132: 2.393663167953491\n",
      "step 133: 2.013545513153076\n",
      "step 134: 2.321068286895752\n",
      "step 135: 2.0336289405822754\n",
      "step 136: 1.8268543481826782\n",
      "step 137: 2.37022066116333\n",
      "step 138: 2.555525302886963\n",
      "step 139: 1.8843358755111694\n",
      "step 140: 2.3184823989868164\n",
      "step 141: 2.3210060596466064\n",
      "step 142: 2.108482599258423\n",
      "step 143: 2.3829457759857178\n",
      "step 144: 2.3001723289489746\n",
      "step 145: 1.9969182014465332\n",
      "step 146: 2.1609859466552734\n",
      "step 147: 2.4582104682922363\n",
      "step 148: 2.345554828643799\n",
      "step 149: 2.420438766479492\n",
      "step 150: 2.164611339569092\n",
      "step 151: 2.6985292434692383\n",
      "step 152: 2.377154588699341\n",
      "step 153: 2.1975231170654297\n",
      "step 154: 2.231837272644043\n",
      "step 155: 2.2237236499786377\n",
      "step 156: 3.0208053588867188\n",
      "step 157: 2.1152892112731934\n",
      "step 158: 2.4705910682678223\n",
      "step 159: 1.9828953742980957\n",
      "step 160: 1.7696125507354736\n",
      "step 161: 2.419740676879883\n",
      "step 162: 2.7789576053619385\n",
      "step 163: 2.4511032104492188\n",
      "step 164: 2.260157585144043\n",
      "step 165: 1.9613066911697388\n",
      "step 166: 2.5787787437438965\n",
      "step 167: 1.8124626874923706\n",
      "step 168: 2.2014825344085693\n",
      "step 169: 2.3267879486083984\n",
      "step 170: 2.231576681137085\n",
      "step 171: 2.067427158355713\n",
      "step 172: 2.4188694953918457\n",
      "step 173: 2.372176170349121\n",
      "step 174: 2.1663098335266113\n",
      "step 175: 2.0268049240112305\n",
      "step 176: 2.1561713218688965\n",
      "step 177: 2.3756985664367676\n",
      "step 178: 2.3393797874450684\n",
      "step 179: 2.268209934234619\n",
      "step 180: 2.2642972469329834\n",
      "step 181: 2.2323403358459473\n",
      "step 182: 2.525071620941162\n",
      "step 183: 2.268390655517578\n",
      "step 184: 2.6683549880981445\n",
      "step 185: 2.9343268871307373\n",
      "step 186: 2.239619016647339\n",
      "step 187: 2.5102720260620117\n",
      "step 188: 2.406559944152832\n",
      "step 189: 2.2169432640075684\n",
      "step 190: 2.104555368423462\n",
      "step 191: 2.20192551612854\n",
      "step 192: 1.470007300376892\n",
      "step 193: 2.362753391265869\n",
      "step 194: 2.2360243797302246\n",
      "step 195: 2.2135746479034424\n",
      "step 196: 2.1259281635284424\n",
      "step 197: 1.9865190982818604\n",
      "step 198: 2.003842830657959\n",
      "step 199: 2.1304779052734375\n",
      "step 200: 2.126441240310669\n",
      "step 201: 2.3366103172302246\n",
      "step 202: 2.4498515129089355\n",
      "step 203: 2.1298983097076416\n",
      "step 204: 2.0603978633880615\n",
      "step 205: 2.0459022521972656\n",
      "step 206: 2.2021658420562744\n",
      "step 207: 2.4157135486602783\n",
      "step 208: 2.0699520111083984\n",
      "step 209: 2.3284168243408203\n",
      "step 210: 2.3706963062286377\n",
      "step 211: 2.2339835166931152\n",
      "step 212: 2.345857858657837\n",
      "step 213: 2.3875091075897217\n",
      "step 214: 2.0239856243133545\n",
      "step 215: 2.5662262439727783\n",
      "step 216: 2.067497968673706\n",
      "step 217: 2.143397808074951\n",
      "step 218: 2.2146477699279785\n",
      "step 219: 2.281188488006592\n",
      "step 220: 2.2502524852752686\n",
      "step 221: 2.180433511734009\n",
      "step 222: 2.5736136436462402\n",
      "step 223: 2.335453510284424\n",
      "step 224: 2.207101345062256\n",
      "step 225: 2.3130688667297363\n",
      "step 226: 2.2551913261413574\n",
      "step 227: 2.340867519378662\n",
      "step 228: 2.6184492111206055\n",
      "step 229: 1.8612993955612183\n",
      "step 230: 2.116333246231079\n",
      "step 231: 2.3001790046691895\n",
      "step 232: 2.4207096099853516\n",
      "step 233: 2.581284284591675\n",
      "step 234: 2.0809125900268555\n",
      "step 235: 2.416057586669922\n",
      "step 236: 2.309258460998535\n",
      "step 237: 2.365549087524414\n",
      "step 238: 2.5332252979278564\n",
      "step 239: 2.0429887771606445\n",
      "step 240: 2.571887969970703\n",
      "step 241: 2.0660974979400635\n",
      "step 242: 2.1417980194091797\n",
      "step 243: 2.563506603240967\n",
      "step 244: 2.2520668506622314\n",
      "step 245: 2.5130300521850586\n",
      "step 246: 2.28720760345459\n",
      "step 247: 1.9008548259735107\n",
      "step 248: 2.4413344860076904\n",
      "step 249: 1.9146230220794678\n",
      "step 250: 2.5176925659179688\n",
      "step 251: 2.448302745819092\n",
      "step 252: 2.4014790058135986\n",
      "step 253: 2.061068296432495\n",
      "step 254: 2.3294191360473633\n",
      "step 255: 2.5982396602630615\n",
      "step 256: 2.2506961822509766\n",
      "step 257: 2.220250368118286\n",
      "step 258: 2.551942825317383\n",
      "step 259: 2.5250508785247803\n",
      "step 260: 2.3365397453308105\n",
      "step 261: 2.099693536758423\n",
      "step 262: 2.1974270343780518\n",
      "step 263: 3.0645618438720703\n",
      "step 264: 2.229936122894287\n",
      "step 265: 2.4111714363098145\n",
      "step 266: 2.13456130027771\n",
      "step 267: 2.4282846450805664\n",
      "step 268: 2.251671552658081\n",
      "step 269: 2.6560447216033936\n",
      "step 270: 2.104447841644287\n",
      "step 271: 2.1555187702178955\n",
      "step 272: 2.002183675765991\n",
      "step 273: 2.2399909496307373\n",
      "step 274: 2.5090198516845703\n",
      "step 275: 2.2653331756591797\n",
      "step 276: 2.079256534576416\n",
      "step 277: 2.7568681240081787\n",
      "step 278: 2.050358772277832\n",
      "step 279: 1.8740465641021729\n",
      "step 280: 2.1960878372192383\n",
      "step 281: 2.3513545989990234\n",
      "step 282: 2.5009632110595703\n",
      "step 283: 2.336796522140503\n",
      "step 284: 2.1406402587890625\n",
      "step 285: 2.2648749351501465\n",
      "step 286: 2.344459295272827\n",
      "step 287: 1.8191112279891968\n",
      "step 288: 2.586052417755127\n",
      "step 289: 2.0203826427459717\n",
      "step 290: 2.4907844066619873\n",
      "step 291: 2.0865988731384277\n",
      "step 292: 2.1622209548950195\n",
      "step 293: 1.9878686666488647\n",
      "step 294: 2.2337069511413574\n",
      "step 295: 2.4853293895721436\n",
      "step 296: 1.842797040939331\n",
      "step 297: 2.2362146377563477\n",
      "step 298: 2.2437291145324707\n",
      "step 299: 1.8214186429977417\n",
      "step 300: 2.180750846862793\n",
      "step 301: 2.140537977218628\n",
      "step 302: 2.3163535594940186\n",
      "step 303: 2.344984531402588\n",
      "step 304: 2.179854393005371\n",
      "step 305: 2.355226993560791\n",
      "step 306: 1.9336496591567993\n",
      "step 307: 2.035196304321289\n",
      "step 308: 2.1187584400177\n",
      "step 309: 2.452669858932495\n",
      "step 310: 2.0666422843933105\n",
      "step 311: 1.9809707403182983\n",
      "step 312: 2.2674179077148438\n",
      "step 313: 2.522758722305298\n",
      "step 314: 2.197026252746582\n",
      "step 315: 2.109464645385742\n",
      "step 316: 2.56734561920166\n",
      "step 317: 2.34934663772583\n",
      "step 318: 1.9708247184753418\n",
      "step 319: 2.295258045196533\n",
      "step 320: 2.4341769218444824\n",
      "step 321: 2.3539798259735107\n",
      "step 322: 1.6450371742248535\n",
      "step 323: 2.3970186710357666\n",
      "step 324: 2.260887384414673\n",
      "step 325: 2.4505138397216797\n",
      "step 326: 2.4566874504089355\n",
      "step 327: 2.1803956031799316\n",
      "step 328: 1.7733993530273438\n",
      "step 329: 2.6044716835021973\n",
      "step 330: 2.299143075942993\n",
      "step 331: 2.188009738922119\n",
      "step 332: 2.6964423656463623\n",
      "step 333: 2.3115291595458984\n",
      "step 334: 2.055850028991699\n",
      "step 335: 2.133816719055176\n",
      "step 336: 2.2601797580718994\n",
      "step 337: 2.6367709636688232\n",
      "step 338: 2.252420425415039\n",
      "step 339: 2.205378293991089\n",
      "step 340: 2.100745916366577\n",
      "step 341: 2.5681047439575195\n",
      "step 342: 1.8901854753494263\n",
      "step 343: 2.306941509246826\n",
      "step 344: 2.6927034854888916\n",
      "step 345: 2.20662784576416\n",
      "step 346: 2.0428476333618164\n",
      "step 347: 2.194364070892334\n",
      "step 348: 2.4713027477264404\n",
      "step 349: 2.4590134620666504\n",
      "step 350: 2.5701839923858643\n",
      "step 351: 2.624375820159912\n",
      "step 352: 2.650141477584839\n",
      "step 353: 2.5313844680786133\n",
      "step 354: 2.3170859813690186\n",
      "step 355: 1.9099867343902588\n",
      "step 356: 2.1945998668670654\n",
      "step 357: 1.8686480522155762\n",
      "step 358: 2.5661115646362305\n",
      "step 359: 2.144227981567383\n",
      "step 360: 2.062697410583496\n",
      "step 361: 2.658783197402954\n",
      "step 362: 2.215101957321167\n",
      "step 363: 2.369173765182495\n",
      "step 364: 2.358682632446289\n",
      "step 365: 2.464048385620117\n",
      "step 366: 2.490058183670044\n",
      "step 367: 2.431162118911743\n",
      "step 368: 2.2962191104888916\n",
      "step 369: 2.1148040294647217\n",
      "step 370: 2.2530863285064697\n",
      "step 371: 2.3136205673217773\n",
      "step 372: 1.9460968971252441\n",
      "step 373: 2.1877682209014893\n",
      "step 374: 1.8075861930847168\n",
      "step 375: 2.6355817317962646\n",
      "step 376: 2.3125712871551514\n",
      "step 377: 2.1503725051879883\n",
      "step 378: 2.0688259601593018\n",
      "step 379: 1.9082856178283691\n",
      "step 380: 2.371135950088501\n",
      "step 381: 1.9067476987838745\n",
      "step 382: 2.6732418537139893\n",
      "step 383: 2.1223888397216797\n",
      "step 384: 2.4223525524139404\n",
      "step 385: 2.3054535388946533\n",
      "step 386: 2.7043709754943848\n",
      "step 387: 2.140498638153076\n",
      "step 388: 2.1691832542419434\n",
      "step 389: 2.4025371074676514\n",
      "step 390: 2.2597498893737793\n",
      "step 391: 2.4176206588745117\n",
      "step 392: 2.310842752456665\n",
      "step 393: 2.2464818954467773\n",
      "step 394: 2.486471176147461\n",
      "step 395: 2.09763765335083\n",
      "step 396: 2.09926700592041\n",
      "step 397: 2.108792543411255\n",
      "step 398: 2.1082305908203125\n",
      "step 399: 2.426908016204834\n",
      "step 400: 2.244863748550415\n",
      "step 401: 2.4317126274108887\n",
      "step 402: 2.571892738342285\n",
      "step 403: 1.981331467628479\n",
      "step 404: 2.983319044113159\n",
      "step 405: 2.4105663299560547\n",
      "step 406: 2.086221218109131\n",
      "step 407: 2.1219112873077393\n",
      "step 408: 2.10402774810791\n",
      "step 409: 2.2495222091674805\n",
      "step 410: 2.817699670791626\n",
      "step 411: 2.157141923904419\n",
      "step 412: 2.5920121669769287\n",
      "step 413: 2.224344253540039\n",
      "step 414: 1.9874531030654907\n",
      "step 415: 2.0941081047058105\n",
      "step 416: 2.4911763668060303\n",
      "step 417: 2.2137272357940674\n",
      "step 418: 2.344355821609497\n",
      "step 419: 2.196779489517212\n",
      "step 420: 2.6232359409332275\n",
      "step 421: 2.6574575901031494\n",
      "step 422: 2.082355260848999\n",
      "step 423: 2.550671100616455\n",
      "step 424: 2.36004900932312\n",
      "step 425: 2.783799171447754\n",
      "step 426: 2.3723583221435547\n",
      "step 427: 1.9334285259246826\n",
      "step 428: 2.316498041152954\n",
      "step 429: 2.393641710281372\n",
      "step 430: 2.129481077194214\n",
      "step 431: 2.7376883029937744\n",
      "step 432: 2.3879497051239014\n",
      "step 433: 2.005589485168457\n",
      "step 434: 2.626948833465576\n",
      "step 435: 1.9769119024276733\n",
      "step 436: 2.397022247314453\n",
      "step 437: 2.885878562927246\n",
      "step 438: 2.690699815750122\n",
      "step 439: 2.0286219120025635\n",
      "step 440: 2.240666389465332\n",
      "step 441: 2.1514782905578613\n",
      "step 442: 2.491570472717285\n",
      "step 443: 2.206688165664673\n",
      "step 444: 2.2509329319000244\n",
      "step 445: 2.2252066135406494\n",
      "step 446: 2.627549886703491\n",
      "step 447: 2.67668080329895\n",
      "step 448: 2.3233554363250732\n",
      "step 449: 2.4878180027008057\n",
      "step 450: 2.3000001907348633\n",
      "step 451: 2.101738929748535\n",
      "step 452: 1.921688437461853\n",
      "step 453: 2.279444694519043\n",
      "step 454: 2.31341814994812\n",
      "step 455: 2.176551342010498\n",
      "step 456: 2.1176435947418213\n",
      "step 457: 2.3666090965270996\n",
      "step 458: 2.166142225265503\n",
      "step 459: 2.3643746376037598\n",
      "step 460: 2.286924123764038\n",
      "step 461: 2.4003746509552\n",
      "step 462: 2.58878231048584\n",
      "step 463: 2.0339736938476562\n",
      "step 464: 2.063964605331421\n",
      "step 465: 2.909592866897583\n",
      "step 466: 2.213027238845825\n",
      "step 467: 2.3432793617248535\n",
      "step 468: 2.4918646812438965\n",
      "step 469: 2.1750810146331787\n",
      "step 470: 2.5167782306671143\n",
      "step 471: 2.5147030353546143\n",
      "step 472: 2.2038137912750244\n",
      "step 473: 2.1033992767333984\n",
      "step 474: 2.0960817337036133\n",
      "step 475: 2.1577296257019043\n",
      "step 476: 2.190859794616699\n",
      "step 477: 2.0091969966888428\n",
      "step 478: 2.7681021690368652\n",
      "step 479: 2.4196550846099854\n",
      "step 480: 2.2001023292541504\n",
      "step 481: 1.7878957986831665\n",
      "step 482: 2.6270956993103027\n",
      "step 483: 2.3502516746520996\n",
      "step 484: 2.1452598571777344\n",
      "step 485: 2.520991802215576\n",
      "step 486: 1.943660855293274\n",
      "step 487: 2.293976068496704\n",
      "step 488: 2.1131811141967773\n",
      "step 489: 2.423809289932251\n",
      "step 490: 2.3838655948638916\n",
      "step 491: 2.017615556716919\n",
      "step 492: 2.3651342391967773\n",
      "step 493: 2.3598365783691406\n",
      "step 494: 2.009672164916992\n",
      "step 495: 1.8047091960906982\n",
      "step 496: 2.299384117126465\n",
      "step 497: 2.4701876640319824\n",
      "step 498: 2.2024712562561035\n",
      "step 499: 2.384740114212036\n",
      "Time taken:  91.381502866745\n"
     ]
    }
   ],
   "source": [
    "lri = []\n",
    "lossi = []\n",
    "stepi = []\n",
    "\n",
    "# training\n",
    "import time\n",
    "\n",
    "lr = 0.0133\n",
    "\n",
    "start = time.time()\n",
    "\n",
    "for i in range(500):\n",
    "\n",
    "    # minibatch construct\n",
    "    ix = Tensor.randint(32, low=0, high=Xtr.shape[0], requires_grad=False)\n",
    "\n",
    "    # forward pass\n",
    "    emb = C[Xtr[ix]] # (32, 3, 10)\n",
    "    h = (emb.view(-1, 64) @ W1 + b1).tanh()  # (32, 100)\n",
    "    logits = h @ W2 + b2    # (32, 60)\n",
    "\n",
    "    # compute loss\n",
    "    loss = Tensor.cross_entropy(logits, Ytr[ix])\n",
    "\n",
    "    # zero gradients\n",
    "    for p in parameters:\n",
    "        p.grad = p.zeros_like()\n",
    "\n",
    "    # backwards pass\n",
    "    loss.backward()\n",
    "    \n",
    "    # update parameters\n",
    "    #lr = lrs[i]\n",
    "    for p in parameters:\n",
    "        p.replace(p.add(-lr * p.grad))\n",
    "\n",
    "    # print loss\n",
    "    print(f'step {i}: {loss.item()}') # we print here since forward is lazy, \n",
    "    #                  # doesnt get realized until .backward is called\n",
    "    \n",
    "    #lrs[i]\n",
    "\n",
    "    # track stats\n",
    "    #lri.append(lre[i].item())\n",
    "    #stepi.append(i)\n",
    "    #lossi.append(loss.item())\n",
    "    \n",
    "end = time.time()\n",
    "print('Time taken: ', end - start)"
   ]
  },
  {
   "cell_type": "code",
   "execution_count": 93,
   "id": "d317af67-e17a-49d2-a939-6fbbc5c0b1f7",
   "metadata": {},
   "outputs": [
    {
     "data": {
      "text/plain": [
       "[<matplotlib.lines.Line2D at 0x1604a8cd0>]"
      ]
     },
     "execution_count": 93,
     "metadata": {},
     "output_type": "execute_result"
    },
    {
     "data": {
      "image/png": "[encoded data removed]",
      "text/plain": [
       "<Figure size 640x480 with 1 Axes>"
      ]
     },
     "metadata": {},
     "output_type": "display_data"
    }
   ],
   "source": [
    "plt.plot(lri, lossi)"
   ]
  },
  {
   "cell_type": "code",
   "execution_count": 115,
   "id": "53042dd4-5db4-4d4b-984f-693b61c44e78",
   "metadata": {},
   "outputs": [
    {
     "name": "stdout",
     "output_type": "stream",
     "text": [
      "empirical loss: 2.2917559146881104\n"
     ]
    }
   ],
   "source": [
    "# loss over training set\n",
    "\n",
    "emb = C[Xtr] # (60, 3, 2)\n",
    "h = (emb.view(-1,64) @ W1 + b1).tanh() # (60, 100)\n",
    "logits = h @ W2 + b2 # (60, 60)\n",
    "#counts = logits.exp()\n",
    "#prob = counts / counts.sum(1, keepdim=True) # normalizing\n",
    "#loss = -prob[Tensor.arange(60), Y].log().mean()\n",
    "loss = Tensor.cross_entropy(logits, Ytr)\n",
    "loss.realize()\n",
    "print(f'empirical loss: {loss.item()}')"
   ]
  },
  {
   "cell_type": "code",
   "execution_count": 116,
   "id": "3bc7597c-4e7b-4ea6-a6c0-4b64b9fbbbde",
   "metadata": {},
   "outputs": [
    {
     "name": "stdout",
     "output_type": "stream",
     "text": [
      "empirical loss: 2.587310552597046\n"
     ]
    }
   ],
   "source": [
    "# loss over dev test\n",
    "\n",
    "emb = C[Xdev] # (60, 3, 2)\n",
    "h = (emb.view(-1,64) @ W1 + b1).tanh() # (60, 100)\n",
    "logits = h @ W2 + b2 # (60, 60)\n",
    "#counts = logits.exp()\n",
    "#prob = counts / counts.sum(1, keepdim=True) # normalizing\n",
    "#loss = -prob[Tensor.arange(60), Y].log().mean()\n",
    "loss = Tensor.cross_entropy(logits, Ydev)\n",
    "print(f'empirical loss: {loss.item()}')"
   ]
  },
  {
   "cell_type": "code",
   "execution_count": 29,
   "id": "0d5ae19f-2f2e-4b58-85a8-eacf36f44877",
   "metadata": {},
   "outputs": [
    {
     "data": {
      "image/png": "[encoded data removed]",
      "text/plain": [
       "<Figure size 800x800 with 1 Axes>"
      ]
     },
     "metadata": {},
     "output_type": "display_data"
    }
   ],
   "source": [
    "plt.figure(figsize=(8,8))\n",
    "plt.scatter(C[:,0].data(), C[:,1].data(), s=200)\n",
    "for i in range(C.shape[0]):\n",
    "    plt.text(C[i,0].item(), C[i,1].item(), itos[i], ha='center', va='center', color=\"white\")\n",
    "plt.grid('minor')"
   ]
  },
  {
   "cell_type": "code",
   "execution_count": 30,
   "id": "a5a8bb64-103e-441d-a320-f54b9211718e",
   "metadata": {},
   "outputs": [],
   "source": [
    "# training split, dev/validation split, test split\n",
    "# 80%, 10%, 10% of data set"
   ]
  },
  {
   "cell_type": "code",
   "execution_count": 118,
   "id": "7a4a530e-52cd-4793-8acb-76c53666dc65",
   "metadata": {},
   "outputs": [
    {
     "name": "stdout",
     "output_type": "stream",
     "text": [
      "Pawd.\n",
      "Ounaf.\n",
      "Eosorange.\n",
      "Geeconeurind.\n",
      "MMwtick.\n",
      "Sunvhn Smas Eooc Thamher.\n",
      "Atopl.\n",
      "Alesle Oror.\n",
      "Ficit Srors.\n",
      "Dastrl Eowt wller.\n"
     ]
    }
   ],
   "source": [
    "# sample from the model\n",
    "\n",
    "for _ in range(10):\n",
    "    out = []\n",
    "    context = [0] * block_size # initialize with all ... starting chars\n",
    "    while True:\n",
    "        emb = C[Tensor(context)] # (1, block_size, d)\n",
    "        h = (emb.view(1, -1) @ W1 + b1).tanh()\n",
    "        logits = h @ W2 + b2\n",
    "        probs = logits.softmax(axis=1)\n",
    "        ix = probs.multinomial(num_samples=1).item()\n",
    "        context = context[1:] + [ix]\n",
    "        out.append(ix)\n",
    "        if ix == 0:\n",
    "            break\n",
    "\n",
    "    print(''.join(itos[i] for i in out))"
   ]
  },
  {
   "cell_type": "code",
   "execution_count": null,
   "id": "15ee3203-4ea6-467d-b5d4-adb151ad9332",
   "metadata": {},
   "outputs": [],
   "source": []
  }
 ],
 "metadata": {
  "kernelspec": {
   "display_name": "Python 3 (ipykernel)",
   "language": "python",
   "name": "python3"
  },
  "language_info": {
   "codemirror_mode": {
    "name": "ipython",
    "version": 3
   },
   "file_extension": ".py",
   "mimetype": "text/x-python",
   "name": "python",
   "nbconvert_exporter": "python",
   "pygments_lexer": "ipython3",
   "version": "3.13.1"
  }
 },
 "nbformat": 4,
 "nbformat_minor": 5
}
