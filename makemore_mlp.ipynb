{
 "cells": [
  {
   "cell_type": "code",
   "execution_count": 1,
   "id": "5d82bd27-bda1-4979-b420-10bf3ef9af30",
   "metadata": {},
   "outputs": [],
   "source": [
    "# imports\n",
    "import os\n",
    "import numpy as np\n",
    "import time\n",
    "from tinygrad import Tensor\n",
    "import matplotlib.pyplot as plt # for making figures\n",
    "%matplotlib inline\n",
    "\n",
    "os.environ['GPU'] = '1' # set to tinygrad backend to GPU since METAL doesn't work on older intel macs"
   ]
  },
  {
   "cell_type": "code",
   "execution_count": 2,
   "id": "3010fd07-1363-4850-a389-f42970e653e7",
   "metadata": {},
   "outputs": [],
   "source": [
    "# import and clean pokemon name data\n",
    "\n",
    "import csv\n",
    "\n",
    "moves = []\n",
    "\n",
    "with open('Pokemon_moves.csv', newline='') as csvfile:\n",
    "    reader = csv.reader(csvfile)\n",
    "    next(reader) # skips header row\n",
    "    for row in reader:\n",
    "        if len(row) > 1:\n",
    "            moves.append(row[0])"
   ]
  },
  {
   "cell_type": "code",
   "execution_count": 3,
   "id": "4242e3fe-2e3b-49dc-8191-0260772779ce",
   "metadata": {},
   "outputs": [
    {
     "data": {
      "text/plain": [
       "['10,000,000 Volt Thunderbolt',\n",
       " 'Absorb',\n",
       " 'Accelerock',\n",
       " 'Acid',\n",
       " 'Acid Armor',\n",
       " 'Acid Downpour',\n",
       " 'Acid Spray',\n",
       " 'Acrobatics',\n",
       " 'Acupressure',\n",
       " 'Aerial Ace']"
      ]
     },
     "execution_count": 3,
     "metadata": {},
     "output_type": "execute_result"
    }
   ],
   "source": [
    "moves[:10]"
   ]
  },
  {
   "cell_type": "code",
   "execution_count": 4,
   "id": "f9179353-1daa-46d9-892f-864e442ee2df",
   "metadata": {},
   "outputs": [
    {
     "data": {
      "text/plain": [
       "724"
      ]
     },
     "execution_count": 4,
     "metadata": {},
     "output_type": "execute_result"
    }
   ],
   "source": [
    "len(moves)"
   ]
  },
  {
   "cell_type": "code",
   "execution_count": 5,
   "id": "3fdca707-561f-46c2-b29e-01b55b30c0d4",
   "metadata": {},
   "outputs": [
    {
     "name": "stdout",
     "output_type": "stream",
     "text": [
      "{1: ' ', 2: \"'\", 3: ',', 4: '-', 5: '0', 6: '1', 7: '2', 8: '7', 9: 'A', 10: 'B', 11: 'C', 12: 'D', 13: 'E', 14: 'F', 15: 'G', 16: 'H', 17: 'I', 18: 'J', 19: 'K', 20: 'L', 21: 'M', 22: 'N', 23: 'O', 24: 'P', 25: 'Q', 26: 'R', 27: 'S', 28: 'T', 29: 'U', 30: 'V', 31: 'W', 32: 'X', 33: 'Y', 34: 'Z', 35: 'a', 36: 'b', 37: 'c', 38: 'd', 39: 'e', 40: 'f', 41: 'g', 42: 'h', 43: 'i', 44: 'k', 45: 'l', 46: 'm', 47: 'n', 48: 'o', 49: 'p', 50: 'q', 51: 'r', 52: 's', 53: 't', 54: 'u', 55: 'v', 56: 'w', 57: 'x', 58: 'y', 59: 'z', 0: '.'}\n",
      "num_unique_chars = 60\n",
      "all_chars =  {'F', 'w', 'Z', 'Y', 'E', 'R', 'W', 'p', '2', 'h', 'f', '1', 'G', 'V', 'T', 'u', 'D', 'O', 'c', 'x', '7', 't', 'K', 'e', 'H', 'm', '.', 'd', 'P', ',', 'M', 'z', 'Q', 'B', 'k', 'g', 'b', ' ', 'I', 'q', 's', 'N', 'o', 'i', 'X', 'U', 'J', 'S', 'a', 'y', 'C', 'n', 'A', \"'\", '0', '-', 'l', 'v', 'L', 'r'}\n"
     ]
    }
   ],
   "source": [
    "# build the vocabular of characters and mappings to/from integers\n",
    "chars = sorted(list(set(''.join(moves))))\n",
    "# stoi = string to int, itos = int to string\n",
    "stoi = {s:i+1 for i,s in enumerate(chars)}\n",
    "stoi['.'] = 0 # set . as end char, since all other end chars are already used\n",
    "itos = {i:s for s,i in stoi.items()}\n",
    "print(itos)\n",
    "\n",
    "# finding # of unique chars so we can set our Tensor dim. later\n",
    "all_chars = set(''.join(stoi))\n",
    "num_unique_chars = len(all_chars)\n",
    "\n",
    "print('num_unique_chars =', num_unique_chars)\n",
    "print('all_chars = ', all_chars)"
   ]
  },
  {
   "cell_type": "code",
   "execution_count": 6,
   "id": "87aca16d-3a4d-440a-874a-caf05157d2ba",
   "metadata": {},
   "outputs": [
    {
     "name": "stdout",
     "output_type": "stream",
     "text": [
      "(6369, 4) (6369,)\n",
      "(828, 4) (828,)\n",
      "(839, 4) (839,)\n"
     ]
    }
   ],
   "source": [
    "# build the dataset\n",
    "block_size = 4 # context length: how many chars do we take to predict the next on?\n",
    "X, Y = [], [] # X = inputs, Y = labels\n",
    "\n",
    "for n in moves:\n",
    "\n",
    "    #print(n)\n",
    "    context = [0] * block_size # start with padded context\n",
    "\n",
    "    # iter over all chars\n",
    "    for ch in n + '.':\n",
    "        ix = stoi[ch] # get char in sequence\n",
    "        X.append(context) # stores current running context\n",
    "        Y.append(ix) # stores current char\n",
    "        #print(''.join(itos[i] for i in context), '--->', itos[ix])\n",
    "        context = context[1:] + [ix] # crop and append (rolling window of context)\n",
    "\n",
    "X = Tensor(X)\n",
    "Y = Tensor(Y)\n",
    "\n",
    "# build the dataset ( in terms of train, val, and test sets )\n",
    "def build_dataset(moves):\n",
    "    block_size = 4 # context length: how many chars do we take to predict the next on?\n",
    "    X, Y = [], [] # X = inputs, Y = labels\n",
    "    \n",
    "    for n in moves:\n",
    "    \n",
    "        #print(n)\n",
    "        context = [0] * block_size # start with padded context\n",
    "    \n",
    "        # iter over all chars\n",
    "        for ch in n + '.':\n",
    "            ix = stoi[ch] # get char in sequence\n",
    "            X.append(context) # stores current running context\n",
    "            Y.append(ix) # stores current char\n",
    "            #print(''.join(itos[i] for i in context), '--->', itos[ix])\n",
    "            context = context[1:] + [ix] # crop and append (rolling window of context)\n",
    "    \n",
    "    X = Tensor(X)\n",
    "    Y = Tensor(Y)\n",
    "    print(X.shape, Y.shape)\n",
    "    return X, Y\n",
    "\n",
    "import random\n",
    "random.shuffle(moves)\n",
    "n1 = int(0.8*len(moves))\n",
    "n2 = int(0.9*len(moves))\n",
    "\n",
    "Xtr, Ytr = build_dataset(moves[:n1])\n",
    "Xdev, Ydev = build_dataset(moves[n1:n2])\n",
    "Xte, Yte = build_dataset(moves[n2:])"
   ]
  },
  {
   "cell_type": "code",
   "execution_count": 7,
   "id": "872b2019-5146-4d9c-9666-ac56f4bed8a5",
   "metadata": {},
   "outputs": [
    {
     "data": {
      "text/plain": [
       "((8036, 4), dtypes.int, (8036,), dtypes.int)"
      ]
     },
     "execution_count": 7,
     "metadata": {},
     "output_type": "execute_result"
    }
   ],
   "source": [
    "# dataset shape\n",
    "X.shape, X.dtype, Y.shape, Y.dtype"
   ]
  },
  {
   "cell_type": "code",
   "execution_count": 8,
   "id": "89167c6e-874c-4b74-a179-8bd842b94147",
   "metadata": {},
   "outputs": [],
   "source": [
    "# building embedding lookup table\n",
    "# we try cramming everything into two dimensional space\n",
    "\n",
    "C = Tensor.randn((num_unique_chars, 2))"
   ]
  },
  {
   "cell_type": "code",
   "execution_count": 9,
   "id": "9a18d618-de16-4d15-8a57-868b9d331403",
   "metadata": {},
   "outputs": [
    {
     "data": {
      "text/plain": [
       "(8036, 4, 2)"
      ]
     },
     "execution_count": 9,
     "metadata": {},
     "output_type": "execute_result"
    }
   ],
   "source": [
    "emb = C[X]\n",
    "emb.shape"
   ]
  },
  {
   "cell_type": "code",
   "execution_count": 10,
   "id": "16b9ed59-289b-45f3-b998-1200c3ae4ed8",
   "metadata": {},
   "outputs": [],
   "source": [
    "### hidden layer (3x2 = num inputs to this layer (context x embedding dim), and arb. 100 neurons)\n",
    "W1 = Tensor.randn(8, 100)\n",
    "b1 = Tensor.randn(100)"
   ]
  },
  {
   "cell_type": "code",
   "execution_count": 11,
   "id": "da16c227-29ec-49c7-8afa-3349528751b7",
   "metadata": {},
   "outputs": [
    {
     "data": {
      "text/plain": [
       "(8036, 100)"
      ]
     },
     "execution_count": 11,
     "metadata": {},
     "output_type": "execute_result"
    }
   ],
   "source": [
    "# the .view(-1) infers the rest of the shape of the viewed tensor\n",
    "h = (emb.view(-1,8) @ W1 + b1).tanh()\n",
    "h.shape"
   ]
  },
  {
   "cell_type": "code",
   "execution_count": 12,
   "id": "5d03b351-892b-45f8-94b9-eeaaa6e57645",
   "metadata": {},
   "outputs": [],
   "source": [
    "### output layer\n",
    "\n",
    "W2 = Tensor.randn(100,60)\n",
    "b2 = Tensor.randn(60)"
   ]
  },
  {
   "cell_type": "code",
   "execution_count": 13,
   "id": "27813080-d024-4c04-a96a-d0446c27d00c",
   "metadata": {},
   "outputs": [],
   "source": [
    "logits = h @ W2 + b2"
   ]
  },
  {
   "cell_type": "code",
   "execution_count": 14,
   "id": "e5f57be6-e67b-4123-a472-f70eaacea0d5",
   "metadata": {},
   "outputs": [
    {
     "data": {
      "text/plain": [
       "(8036, 60)"
      ]
     },
     "execution_count": 14,
     "metadata": {},
     "output_type": "execute_result"
    }
   ],
   "source": [
    "logits.shape"
   ]
  },
  {
   "cell_type": "code",
   "execution_count": 15,
   "id": "ee6c9ddc-6d20-47ea-b73c-38e96e5b4555",
   "metadata": {},
   "outputs": [],
   "source": [
    "counts = logits.exp()"
   ]
  },
  {
   "cell_type": "code",
   "execution_count": 16,
   "id": "a91606ce-c84d-4866-8b0c-657ec5092027",
   "metadata": {},
   "outputs": [],
   "source": [
    "prob = counts / counts.sum(1, keepdim=True) # normalizing"
   ]
  },
  {
   "cell_type": "code",
   "execution_count": 17,
   "id": "46053824-14b2-4528-96a6-05acb46012c5",
   "metadata": {},
   "outputs": [
    {
     "data": {
      "text/plain": [
       "(8036, 60)"
      ]
     },
     "execution_count": 17,
     "metadata": {},
     "output_type": "execute_result"
    }
   ],
   "source": [
    "prob.shape"
   ]
  },
  {
   "cell_type": "code",
   "execution_count": 18,
   "id": "5819b9b1-b26a-4c97-8318-b09394016fa9",
   "metadata": {},
   "outputs": [],
   "source": [
    "#-prob[Tensor.arange(60), Y].log().mean().numpy() # neg log likelyhood loss"
   ]
  },
  {
   "cell_type": "code",
   "execution_count": 19,
   "id": "c582b4ba-4583-4b68-be3f-e44eea7bc74b",
   "metadata": {},
   "outputs": [],
   "source": [
    "#------- cleanup time -------#"
   ]
  },
  {
   "cell_type": "code",
   "execution_count": 20,
   "id": "a59747a4-4e60-4858-aa0c-a43b5e233279",
   "metadata": {},
   "outputs": [
    {
     "data": {
      "text/plain": [
       "((6369, 4), (6369,))"
      ]
     },
     "execution_count": 20,
     "metadata": {},
     "output_type": "execute_result"
    }
   ],
   "source": [
    "Xtr.shape, Ytr.shape # dataset for training"
   ]
  },
  {
   "cell_type": "code",
   "execution_count": 21,
   "id": "2a8d34d3-9256-4437-91de-44c1fadd17c1",
   "metadata": {},
   "outputs": [],
   "source": [
    "C = Tensor.randn(60, 32)\n",
    "W1 = Tensor.randn(128, 128)\n",
    "b1 = Tensor.randn(128)\n",
    "W2 = Tensor.randn(128, 60)\n",
    "b2 = Tensor.randn(60)\n",
    "parameters = [C, W1, b1, W2, b2]"
   ]
  },
  {
   "cell_type": "code",
   "execution_count": 22,
   "id": "68d38caa-1266-41c6-9cc6-dc332ca6637e",
   "metadata": {},
   "outputs": [
    {
     "data": {
      "text/plain": [
       "26172"
      ]
     },
     "execution_count": 22,
     "metadata": {},
     "output_type": "execute_result"
    }
   ],
   "source": [
    "sum(p.numel() for p in parameters) # numb of params in total"
   ]
  },
  {
   "cell_type": "code",
   "execution_count": 23,
   "id": "37b9b35b-ca7c-45f6-becd-cce32bab45fe",
   "metadata": {},
   "outputs": [],
   "source": [
    "lre = Tensor.linspace(-0.2, 0.2, 100)\n",
    "lrs = 10**lre"
   ]
  },
  {
   "cell_type": "code",
   "execution_count": null,
   "id": "76844f6c-d10e-4fbd-9b94-bbfa52bebb31",
   "metadata": {},
   "outputs": [],
   "source": []
  },
  {
   "cell_type": "code",
   "execution_count": 24,
   "id": "70a20206-b2c4-4248-bbf6-c74b307c1d54",
   "metadata": {},
   "outputs": [],
   "source": [
    "for p in parameters:\n",
    "    p.requires_grad = True"
   ]
  },
  {
   "cell_type": "code",
   "execution_count": 25,
   "id": "427fa14b-5fd6-4662-b6b2-c8d8e2cb379b",
   "metadata": {},
   "outputs": [
    {
     "name": "stdout",
     "output_type": "stream",
     "text": [
      "Time taken:  493.8191668987274\n"
     ]
    }
   ],
   "source": [
    "lri = []\n",
    "lossi = []\n",
    "stepi = []\n",
    "\n",
    "# training\n",
    "import time\n",
    "\n",
    "lr = 0.114\n",
    "\n",
    "start = time.time()\n",
    "\n",
    "for i in range(1000):\n",
    "\n",
    "    # minibatch construct\n",
    "    ix = Tensor.randint(32, low=0, high=Xtr.shape[0], requires_grad=False)\n",
    "\n",
    "    # forward pass\n",
    "    emb = C[Xtr[ix]] # (32, 3, 10)\n",
    "    h = (emb.view(-1, 128) @ W1 + b1).tanh()  # (32, 100)\n",
    "    logits = h @ W2 + b2    # (32, 60)\n",
    "\n",
    "    # compute loss\n",
    "    loss = Tensor.cross_entropy(logits, Ytr[ix])\n",
    "\n",
    "    # zero gradients\n",
    "    for p in parameters:\n",
    "        p.grad = p.zeros_like()\n",
    "\n",
    "    # backwards pass\n",
    "    loss.backward()\n",
    "    \n",
    "    # update parameters\n",
    "    #lr = lrs[i]\n",
    "    for p in parameters:\n",
    "        p.replace(p.add(-lr * p.grad))\n",
    "\n",
    "    # print loss\n",
    "    # print(f'step {i}: {loss.item()}') # we print here since forward is lazy, \n",
    "    #                  # doesnt get realized until .backward is called\n",
    "    \n",
    "    #lrs[i]\n",
    "\n",
    "    # track stats\n",
    "    #lri.append(lre[i].item())\n",
    "    #stepi.append(i)\n",
    "    #lossi.append(loss.item())\n",
    "    \n",
    "# force realization\n",
    "loss.realize()\n",
    "end = time.time()\n",
    "print('Time taken: ', end - start)"
   ]
  },
  {
   "cell_type": "code",
   "execution_count": 26,
   "id": "d317af67-e17a-49d2-a939-6fbbc5c0b1f7",
   "metadata": {},
   "outputs": [
    {
     "data": {
      "text/plain": [
       "[<matplotlib.lines.Line2D at 0x12c909310>]"
      ]
     },
     "execution_count": 26,
     "metadata": {},
     "output_type": "execute_result"
    },
    {
     "data": {
      "image/png": "[encoded data removed]",
      "text/plain": [
       "<Figure size 640x480 with 1 Axes>"
      ]
     },
     "metadata": {},
     "output_type": "display_data"
    }
   ],
   "source": [
    "plt.plot(lri, lossi)"
   ]
  },
  {
   "cell_type": "code",
   "execution_count": 27,
   "id": "53042dd4-5db4-4d4b-984f-693b61c44e78",
   "metadata": {},
   "outputs": [
    {
     "name": "stdout",
     "output_type": "stream",
     "text": [
      "empirical loss: 3.634434938430786\n"
     ]
    }
   ],
   "source": [
    "# loss over training set\n",
    "\n",
    "emb = C[Xtr] # (60, 3, 2)\n",
    "h = (emb.view(-1,128) @ W1 + b1).tanh() # (60, 100)\n",
    "logits = h @ W2 + b2 # (60, 60)\n",
    "#counts = logits.exp()\n",
    "#prob = counts / counts.sum(1, keepdim=True) # normalizing\n",
    "#loss = -prob[Tensor.arange(60), Y].log().mean()\n",
    "loss = Tensor.cross_entropy(logits, Ytr)\n",
    "loss.realize()\n",
    "print(f'empirical loss: {loss.item()}')"
   ]
  },
  {
   "cell_type": "code",
   "execution_count": 28,
   "id": "3bc7597c-4e7b-4ea6-a6c0-4b64b9fbbbde",
   "metadata": {},
   "outputs": [
    {
     "name": "stdout",
     "output_type": "stream",
     "text": [
      "empirical loss: 6.283635139465332\n"
     ]
    }
   ],
   "source": [
    "# loss over dev test\n",
    "\n",
    "emb = C[Xdev] # (60, 3, 2)\n",
    "h = (emb.view(-1,128) @ W1 + b1).tanh() # (60, 100)\n",
    "logits = h @ W2 + b2 # (60, 60)\n",
    "#counts = logits.exp()\n",
    "#prob = counts / counts.sum(1, keepdim=True) # normalizing\n",
    "#loss = -prob[Tensor.arange(60), Y].log().mean()\n",
    "loss = Tensor.cross_entropy(logits, Ydev)\n",
    "print(f'empirical loss: {loss.item()}')"
   ]
  },
  {
   "cell_type": "code",
   "execution_count": 29,
   "id": "0d5ae19f-2f2e-4b58-85a8-eacf36f44877",
   "metadata": {},
   "outputs": [
    {
     "data": {
      "image/png": "[encoded data removed]",
      "text/plain": [
       "<Figure size 800x800 with 1 Axes>"
      ]
     },
     "metadata": {},
     "output_type": "display_data"
    }
   ],
   "source": [
    "plt.figure(figsize=(8,8))\n",
    "plt.scatter(C[:,0].data(), C[:,1].data(), s=200)\n",
    "for i in range(C.shape[0]):\n",
    "    plt.text(C[i,0].item(), C[i,1].item(), itos[i], ha='center', va='center', color=\"white\")\n",
    "plt.grid('minor')"
   ]
  },
  {
   "cell_type": "code",
   "execution_count": 30,
   "id": "a5a8bb64-103e-441d-a320-f54b9211718e",
   "metadata": {},
   "outputs": [],
   "source": [
    "# training split, dev/validation split, test split\n",
    "# 80%, 10%, 10% of data set"
   ]
  },
  {
   "cell_type": "code",
   "execution_count": 31,
   "id": "7a4a530e-52cd-4793-8acb-76c53666dc65",
   "metadata": {},
   "outputs": [
    {
     "name": "stdout",
     "output_type": "stream",
     "text": [
      "Ice 'andefBrusY.\n",
      "Bouding.\n",
      "IAizht.\n",
      "Pr Pon Spore Comelsiioelearing tinr.\n",
      "Crunp.\n",
      "Maliof.\n",
      "Dngy H Beee.\n",
      "Setrn QhNGT2C.\n",
      "Slult.\n",
      "Aralter.\n"
     ]
    }
   ],
   "source": [
    "# sample from the model\n",
    "\n",
    "for _ in range(10):\n",
    "    out = []\n",
    "    context = [0] * block_size # initialize with all ... starting chars\n",
    "    while True:\n",
    "        emb = C[Tensor(context)] # (1, block_size, d)\n",
    "        h = (emb.view(1, -1) @ W1 + b1).tanh()\n",
    "        logits = h @ W2 + b2\n",
    "        probs = logits.softmax(axis=1)\n",
    "        ix = probs.multinomial(num_samples=1).item()\n",
    "        context = context[1:] + [ix]\n",
    "        out.append(ix)\n",
    "        if ix == 0:\n",
    "            break\n",
    "\n",
    "    print(''.join(itos[i] for i in out))"
   ]
  },
  {
   "cell_type": "code",
   "execution_count": null,
   "id": "15ee3203-4ea6-467d-b5d4-adb151ad9332",
   "metadata": {},
   "outputs": [],
   "source": []
  }
 ],
 "metadata": {
  "kernelspec": {
   "display_name": "Python 3 (ipykernel)",
   "language": "python",
   "name": "python3"
  },
  "language_info": {
   "codemirror_mode": {
    "name": "ipython",
    "version": 3
   },
   "file_extension": ".py",
   "mimetype": "text/x-python",
   "name": "python",
   "nbconvert_exporter": "python",
   "pygments_lexer": "ipython3",
   "version": "3.13.1"
  }
 },
 "nbformat": 4,
 "nbformat_minor": 5
}
