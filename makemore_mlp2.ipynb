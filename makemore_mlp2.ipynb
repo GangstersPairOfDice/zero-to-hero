{
 "cells": [
  {
   "cell_type": "code",
   "execution_count": 1,
   "id": "47b0eabd-1ee5-4029-a65c-a7fa60d9e570",
   "metadata": {},
   "outputs": [
    {
     "name": "stdout",
     "output_type": "stream",
     "text": [
      "GPU\n"
     ]
    }
   ],
   "source": [
    "# imports\n",
    "import os\n",
    "import numpy as np\n",
    "import time\n",
    "from tinygrad import Tensor\n",
    "from tinygrad import Device\n",
    "import matplotlib.pyplot as plt # for making figures\n",
    "%matplotlib inline\n",
    "\n",
    "Device.DEFAULT = \"GPU\" # set to tinygrad backend to GPU since METAL doesn't work on older intel macs\n",
    "print(Device.DEFAULT)"
   ]
  },
  {
   "cell_type": "code",
   "execution_count": 2,
   "id": "fe5e8e38-950d-44e0-bb30-b8d6ccf40f4b",
   "metadata": {},
   "outputs": [
    {
     "name": "stdout",
     "output_type": "stream",
     "text": [
      "first five moves in dataset:\n",
      "['10,000,000 Volt Thunderbolt', 'Absorb', 'Accelerock', 'Acid', 'Acid Armor']\n",
      "total number of moves: 724\n"
     ]
    }
   ],
   "source": [
    "# import and clean pokemon name data\n",
    "\n",
    "import csv\n",
    "\n",
    "moves = []\n",
    "\n",
    "with open('Pokemon_moves.csv', newline='') as csvfile:\n",
    "    reader = csv.reader(csvfile)\n",
    "    next(reader) # skips header row\n",
    "    for row in reader:\n",
    "        if len(row) > 1:\n",
    "            moves.append(row[0])\n",
    "\n",
    "print(f'first five moves in dataset:')\n",
    "print(moves[:5])\n",
    "print(f'total number of moves: {len(moves)}')"
   ]
  },
  {
   "cell_type": "code",
   "execution_count": 3,
   "id": "e4038222-d4d6-4097-9971-a047172c8cb7",
   "metadata": {},
   "outputs": [
    {
     "name": "stdout",
     "output_type": "stream",
     "text": [
      "{1: ' ', 2: \"'\", 3: ',', 4: '-', 5: '0', 6: '1', 7: '2', 8: '7', 9: 'A', 10: 'B', 11: 'C', 12: 'D', 13: 'E', 14: 'F', 15: 'G', 16: 'H', 17: 'I', 18: 'J', 19: 'K', 20: 'L', 21: 'M', 22: 'N', 23: 'O', 24: 'P', 25: 'Q', 26: 'R', 27: 'S', 28: 'T', 29: 'U', 30: 'V', 31: 'W', 32: 'X', 33: 'Y', 34: 'Z', 35: 'a', 36: 'b', 37: 'c', 38: 'd', 39: 'e', 40: 'f', 41: 'g', 42: 'h', 43: 'i', 44: 'k', 45: 'l', 46: 'm', 47: 'n', 48: 'o', 49: 'p', 50: 'q', 51: 'r', 52: 's', 53: 't', 54: 'u', 55: 'v', 56: 'w', 57: 'x', 58: 'y', 59: 'z', 0: '.'}\n",
      "num_unique_chars = 60\n",
      "all_chars =  {' ', 'G', 'n', \"'\", 'Y', 'k', 'o', ',', 'E', 'F', 'U', 'm', 'x', 'R', 'D', 'W', 't', 'h', 'M', '1', 'B', 'I', 'O', 'v', '.', '2', 'H', 'L', 'P', 'c', 'C', 'N', 'S', 'Q', 'e', 'f', 'Z', 'u', 'b', '7', 'T', 'd', 'q', '0', 'r', 'K', 'l', 'z', 'V', 'X', 'A', '-', 'w', 'a', 'g', 'J', 'p', 's', 'y', 'i'}\n"
     ]
    }
   ],
   "source": [
    "# build the vocabulary of characters and mappings to/from integers\n",
    "chars = sorted(list(set(''.join(moves))))\n",
    "# stoi = string to int, itos = int to string\n",
    "stoi = {s:i+1 for i,s in enumerate(chars)}\n",
    "stoi['.'] = 0 # set . as end char, since all other end chars are already used\n",
    "itos = {i:s for s,i in stoi.items()}\n",
    "print(itos)\n",
    "\n",
    "# finding # of unique chars so we can set our Tensor dim. later\n",
    "all_chars = set(''.join(stoi))\n",
    "num_unique_chars = len(all_chars)\n",
    "\n",
    "print('num_unique_chars =', num_unique_chars)\n",
    "print('all_chars = ', all_chars)"
   ]
  },
  {
   "cell_type": "code",
   "execution_count": 119,
   "id": "0acdfd40-7d79-460e-9a63-b641b5ae636f",
   "metadata": {},
   "outputs": [
    {
     "name": "stdout",
     "output_type": "stream",
     "text": [
      "(6403, 8) (6403,)\n",
      "(792, 8) (792,)\n",
      "(841, 8) (841,)\n"
     ]
    }
   ],
   "source": [
    "# build the dataset ( in terms of train, val, and test sets )\n",
    "\n",
    "block_size = 8 # context length: how many chars do we take to predict the next on?\n",
    "\n",
    "def build_dataset(moves):\n",
    "    \n",
    "    X, Y = [], [] # X = inputs, Y = labels\n",
    "    \n",
    "    for n in moves:\n",
    "    \n",
    "        #print(n)\n",
    "        context = [0] * block_size # start with padded context\n",
    "    \n",
    "        # iter over all chars\n",
    "        for ch in n + '.':\n",
    "            ix = stoi[ch] # get char in sequence\n",
    "            X.append(context) # stores current running context\n",
    "            Y.append(ix) # stores current char\n",
    "            #print(''.join(itos[i] for i in context), '--->', itos[ix])\n",
    "            context = context[1:] + [ix] # crop and append (rolling window of context)\n",
    "    \n",
    "    X = Tensor(X)\n",
    "    Y = Tensor(Y)\n",
    "    print(X.shape, Y.shape)\n",
    "    return X, Y\n",
    "\n",
    "import random\n",
    "random.shuffle(moves)\n",
    "n1 = int(0.8*len(moves))\n",
    "n2 = int(0.9*len(moves))\n",
    "\n",
    "Xtr, Ytr = build_dataset(moves[:n1])\n",
    "Xdev, Ydev = build_dataset(moves[n1:n2])\n",
    "Xte, Yte = build_dataset(moves[n2:])"
   ]
  },
  {
   "cell_type": "code",
   "execution_count": 132,
   "id": "71f28d9d-a0e5-4ab9-a12a-cad5d926b998",
   "metadata": {},
   "outputs": [],
   "source": [
    "n_embd = 8 # the dimensionality of the character embedding vectors\n",
    "n_hidden = 32 # the number of neurons in the hidden layer of the MLP\n",
    "\n",
    "class PokeMoveNet:\n",
    "    def __init__(self, num_unique_chars, n_embd, n_hidden, block_size):\n",
    "        self.C = Tensor.randn(num_unique_chars, n_embd)\n",
    "        self.W1 = Tensor.randn(n_embd * block_size, n_hidden) * ( (5.0/3.0) / (n_embd * block_size)**0.5 )#* 0.14\n",
    "        self.b1 = Tensor.randn(n_hidden) * 0.01\n",
    "        self.W2 = Tensor.randn(n_hidden, num_unique_chars) * 0.01\n",
    "        self.b2 = Tensor.randn(num_unique_chars) * 0 # to help set logits to 0\n",
    "\n",
    "        \n",
    "        # batch norm parameters\n",
    "        self.bngain = Tensor.ones(1, n_hidden)\n",
    "        self.bnbias = Tensor.zeros(1, n_hidden)\n",
    "        self.bnmean_running = Tensor.zeros(1, n_hidden)\n",
    "        self.bnstd_running = Tensor.ones(1, n_hidden)\n",
    "\n",
    "        # register all parameters\n",
    "        self.parameters = [self.C, self.W1, self.b1, self.W2, self.b2, self.bngain, self.bnbias]\n",
    "        for p in self.parameters:\n",
    "            p.requires_grad = True\n",
    "\n",
    "    def __call__(self, X): # X: (B, block_size\n",
    "        \n",
    "        # forward pass\n",
    "        emb = self.C[X] # embed the characters into vectors\n",
    "        embcat = emb.view(emb.shape[0], -1) # concatenate the vectors\n",
    "\n",
    "        # linear layer\n",
    "        hpreact = embcat @ self.W1 # + self.b1 # hidden layer pre-activation\n",
    "\n",
    "        # batch norm layer\n",
    "        bnmeani = hpreact.mean(0, keepdim=True)\n",
    "        bnstdi = hpreact.std(0, keepdim=True)\n",
    "        hpreact = self.bngain * (hpreact - bnmeani) / bnstdi + 0.001 + self.bnbias # batch norm\n",
    "\n",
    "        self.bnmean_running.replace(0.999 * self.bnmean_running + 0.001 * bnmeani).realize()\n",
    "        self.bnstd_running.replace(0.999 * self.bnstd_running + 0.001 * bnstdi).realize()\n",
    "\n",
    "        # non-linearity\n",
    "        h = hpreact.tanh() # hidden layyer\n",
    "\n",
    "        # output layer\n",
    "        logits = h @ self.W2 + self.b2 # output layer\n",
    "        return logits"
   ]
  },
  {
   "cell_type": "code",
   "execution_count": 133,
   "id": "0f850f8b-90e8-424e-81b5-ce844bc705ed",
   "metadata": {},
   "outputs": [
    {
     "name": "stdout",
     "output_type": "stream",
     "text": [
      "net loaded...\n",
      "num of parameters:  4604\n"
     ]
    }
   ],
   "source": [
    "net = PokeMoveNet(num_unique_chars=num_unique_chars, n_embd=n_embd, n_hidden=n_hidden, block_size=block_size)\n",
    "print('net loaded...')\n",
    "print('num of parameters: ', sum(p.numel() for p in net.parameters)) # numb of params in total"
   ]
  },
  {
   "cell_type": "code",
   "execution_count": 137,
   "id": "8c201782-3e78-4ec0-80b9-ab030ef7dcf4",
   "metadata": {},
   "outputs": [
    {
     "name": "stdout",
     "output_type": "stream",
     "text": [
      "Step 1/2000 | Loss: 3.0200 | Accuracy 0.2109375 | Time taken 0.31s\n",
      "Step 101/2000 | Loss: 3.1949 | Accuracy 0.171875 | Time taken 25.52s\n",
      "Step 201/2000 | Loss: 3.1248 | Accuracy 0.171875 | Time taken 24.81s\n",
      "Step 301/2000 | Loss: 3.1509 | Accuracy 0.1796875 | Time taken 26.88s\n",
      "Step 401/2000 | Loss: 3.2188 | Accuracy 0.1484375 | Time taken 25.10s\n",
      "Step 501/2000 | Loss: 2.9261 | Accuracy 0.21875 | Time taken 26.98s\n",
      "Step 601/2000 | Loss: 2.9368 | Accuracy 0.234375 | Time taken 28.27s\n",
      "Step 701/2000 | Loss: 3.2799 | Accuracy 0.125 | Time taken 27.23s\n",
      "Step 801/2000 | Loss: 3.0964 | Accuracy 0.1640625 | Time taken 26.75s\n",
      "Step 901/2000 | Loss: 3.0307 | Accuracy 0.1796875 | Time taken 27.57s\n",
      "Step 1001/2000 | Loss: 3.0876 | Accuracy 0.15625 | Time taken 30.07s\n",
      "Step 1101/2000 | Loss: 2.8617 | Accuracy 0.15625 | Time taken 29.75s\n",
      "Step 1201/2000 | Loss: 2.9896 | Accuracy 0.171875 | Time taken 27.92s\n",
      "Step 1301/2000 | Loss: 2.9390 | Accuracy 0.1953125 | Time taken 34.00s\n",
      "Step 1401/2000 | Loss: 3.0286 | Accuracy 0.2109375 | Time taken 30.00s\n",
      "Step 1501/2000 | Loss: 3.0699 | Accuracy 0.234375 | Time taken 30.31s\n",
      "Step 1601/2000 | Loss: 3.0920 | Accuracy 0.171875 | Time taken 28.44s\n",
      "Step 1701/2000 | Loss: 2.9956 | Accuracy 0.1640625 | Time taken 29.13s\n",
      "Step 1801/2000 | Loss: 3.0854 | Accuracy 0.1875 | Time taken 32.34s\n",
      "Step 1901/2000 | Loss: 3.1468 | Accuracy 0.1640625 | Time taken 31.10s\n",
      "Time taken:  575.9386670589447\n"
     ]
    }
   ],
   "source": [
    "# training\n",
    "max_steps = 2000\n",
    "batch_size = 128\n",
    "lossi = []\n",
    "\n",
    "# training\n",
    "import time\n",
    "total_start = time.time()\n",
    "batch_start = time.time()\n",
    "\n",
    "with Tensor.train():\n",
    "    for i in range(max_steps):\n",
    "\n",
    "        # minibatch construct\n",
    "        ix = Tensor.randint(batch_size, low=0, high=Xtr.shape[0], requires_grad=False)\n",
    "        Xb, Yb = Xtr[ix], Ytr[ix] # batch X,Y\n",
    "\n",
    "        # forward pass\n",
    "        out = net(Xb)\n",
    "    \n",
    "        # compute loss\n",
    "        loss = out.cross_entropy(Yb)\n",
    "    \n",
    "        # zero gradients\n",
    "        for p in net.parameters:\n",
    "            p.grad = p.zeros_like()\n",
    "        \n",
    "        # backwards pass\n",
    "        loss.backward()\n",
    "        \n",
    "        # update parameters\n",
    "        lr = 0.1 if i < 1000 else 0.01 # step learning rate decay\n",
    "        for p in net.parameters:\n",
    "            p.replace(p.add(-lr * p.grad))\n",
    "\n",
    "        if i % 100 == 0:    \n",
    "            batch_end = time.time()\n",
    "\n",
    "        # calculate accuracy\n",
    "        pred = out.argmax(axis=-1)\n",
    "        acc = (pred == Yb).mean()\n",
    "    \n",
    "        # track stats\n",
    "        if i % 100 == 0:\n",
    "            batch_end = time.time()\n",
    "            print(f\"Step {i+1}/{max_steps} | Loss: {loss.numpy():.4f} | Accuracy {acc.numpy()} | Time taken {batch_end - batch_start:.2f}s\")\n",
    "            batch_start = time.time()\n",
    "        lossi.append(loss.log().numpy() / Tensor(10).log().numpy())\n",
    "        \n",
    "total_end = time.time()\n",
    "print('Time taken: ', total_end - total_start)\n"
   ]
  },
  {
   "cell_type": "code",
   "execution_count": 135,
   "id": "8523395f-6d61-4987-976b-6bff73921319",
   "metadata": {},
   "outputs": [
    {
     "data": {
      "text/plain": [
       "[<matplotlib.lines.Line2D at 0x1227c4690>]"
      ]
     },
     "execution_count": 135,
     "metadata": {},
     "output_type": "execute_result"
    },
    {
     "data": {
      "image/png": "[encoded data removed]",
      "text/plain": [
       "<Figure size 640x480 with 1 Axes>"
      ]
     },
     "metadata": {},
     "output_type": "display_data"
    }
   ],
   "source": [
    "plt.plot(lossi)"
   ]
  },
  {
   "cell_type": "code",
   "execution_count": 76,
   "id": "d8e18ebe-b7b8-4e4f-b8d9-06533bce6838",
   "metadata": {},
   "outputs": [],
   "source": [
    "# calibrate the batch norm at the end of training\n",
    "\n",
    "# pass the training set through\n",
    "emb = net.C[Xtr]\n",
    "embcat = emb.view(emb.shape[0], -1)\n",
    "hpreact = embcat @ net.W1\n",
    "# measure the mean/stf over the entire training set\n",
    "bnmean = hpreact.mean(0, keepdim=True)\n",
    "bnstd = hpreact.std(0, keepdim=True)"
   ]
  },
  {
   "cell_type": "code",
   "execution_count": 77,
   "id": "119ff13e-c2da-4abd-b206-7fd18249bd8c",
   "metadata": {},
   "outputs": [],
   "source": [
    "# setting up JIT to speed up testing\n",
    "from tinygrad import TinyJit\n",
    "\n",
    "@TinyJit\n",
    "def jit(x):\n",
    "    return net(x).realize()"
   ]
  },
  {
   "cell_type": "code",
   "execution_count": 136,
   "id": "1b6e82d9-fddd-4fa0-8f7b-d0f7c05b3fb4",
   "metadata": {},
   "outputs": [
    {
     "name": "stdout",
     "output_type": "stream",
     "text": [
      "train 3.0822206\n",
      "val 3.1499884\n"
     ]
    }
   ],
   "source": [
    "# testing\n",
    "def split_loss(split):\n",
    "    \n",
    "    x,y = {\n",
    "        'train': (Xtr, Ytr),\n",
    "        'val': (Xdev, Ydev),\n",
    "        'test': (Xte, Yte)\n",
    "    }[split]\n",
    "\n",
    "    #out = jit(x)\n",
    "    # pass the training set through\n",
    "    emb = net.C[x]\n",
    "    embcat = emb.view(emb.shape[0], -1)\n",
    "    hpreact = embcat @ net.W1 # + net.b1\n",
    "    hpreact = net.bngain * (hpreact - net.bnmean_running) / net.bnstd_running + net.bnbias\n",
    "    h = hpreact.tanh()\n",
    "    logits = h @ net.W2 + net.b2\n",
    "    loss = logits.cross_entropy(y)\n",
    "    print(split, loss.numpy())\n",
    "\n",
    "split_loss('train')\n",
    "split_loss('val')"
   ]
  },
  {
   "cell_type": "code",
   "execution_count": null,
   "id": "59033724-cfa3-4df3-a39d-4213c36b9fab",
   "metadata": {},
   "outputs": [],
   "source": [
    "# og -> (2.9, 3.1)\n",
    "# fix softmax confidentally wrong -> (3.1, 3.2)\n",
    "# fix tanh layer too saturated at init -> (2.23, 2.53)\n",
    "# setting kaiming init -> (2.8, 2.9)\n",
    "# batch norm -> (2.68, 2.84)"
   ]
  },
  {
   "cell_type": "code",
   "execution_count": 131,
   "id": "f905b247-2958-4c59-af47-7f65af9084ed",
   "metadata": {},
   "outputs": [
    {
     "name": "stdout",
     "output_type": "stream",
     "text": [
      "SHwoemSPWWRqe.\n",
      "MBDOIkSumoee lJacpaCQJ'hvdBTad tp-aod.\n",
      "oLoef lDcl.\n",
      "DRoWkFEe BPiBmllel.\n",
      "GSk2uGCl ,.\n",
      "oEelrefGntgd.\n",
      "lzthtaSl.\n",
      "xOnpuCnon eSge0o.\n",
      "Poec SPF ErTnceL.\n",
      "uigcS uoal lctterg1eU-.\n"
     ]
    }
   ],
   "source": [
    "# sample from model\n",
    "\n",
    "@TinyJit\n",
    "def sample_jit(x):\n",
    "    return net(x).realize()\n",
    "\n",
    "for _ in range(10):\n",
    "\n",
    "    out = []\n",
    "    context = [0] * block_size # initialize with all ........ starting chars\n",
    "\n",
    "    while True:\n",
    "        \n",
    "        # forward pass with not-jit (broken after batchnorm in init)\n",
    "        #logits = sample_jit(Tensor([context])\n",
    "        emb = net.C[Tensor([context])]\n",
    "        embcat = emb.view(1, -1) # concatenate the vectors\n",
    "        hpreact = embcat @ net.W1 + net.b1 # hidden layer pre-activation\n",
    "        h = hpreact.tanh()\n",
    "        logits = h @ net.W2 + net.b2\n",
    "\n",
    "        # calculate output probabilities\n",
    "        probs = logits.softmax(axis=1)\n",
    "        probs.realize()\n",
    "\n",
    "        # sample from distribution\n",
    "        ix = probs.multinomial(num_samples=1).item()\n",
    "\n",
    "        # shift the context window and track the samples (rolling context window)\n",
    "        context = context[1:] + [ix]\n",
    "        out.append(ix)\n",
    "\n",
    "        # if we sample the special '.' token, break\n",
    "        if ix == 0:\n",
    "            break\n",
    "\n",
    "    # decode and print the generated word\n",
    "    print(''.join(itos[i] for i in out))\n",
    "\n",
    "#emb = C[Tensor(context)] # (1, block_size, d)\n",
    "#boof\n",
    "#skalk stick"
   ]
  },
  {
   "cell_type": "code",
   "execution_count": null,
   "id": "8e94f346-89bb-45b1-a926-7f79bc314ca5",
   "metadata": {},
   "outputs": [],
   "source": []
  }
 ],
 "metadata": {
  "kernelspec": {
   "display_name": "Python 3 (ipykernel)",
   "language": "python",
   "name": "python3"
  },
  "language_info": {
   "codemirror_mode": {
    "name": "ipython",
    "version": 3
   },
   "file_extension": ".py",
   "mimetype": "text/x-python",
   "name": "python",
   "nbconvert_exporter": "python",
   "pygments_lexer": "ipython3",
   "version": "3.13.1"
  }
 },
 "nbformat": 4,
 "nbformat_minor": 5
}
